{
 "cells": [
  {
   "cell_type": "code",
   "execution_count": 1,
   "metadata": {},
   "outputs": [],
   "source": [
    "import selfies as sf\n",
    "import pandas as pd\n",
    "import numpy as np\n",
    "import tensorflow as tf\n",
    "import matplotlib.pyplot as plt\n",
    "from typing import NamedTuple\n",
    "from dataclasses import dataclass, asdict\n",
    "import json\n",
    "import requests\n",
    "import time\n",
    "from bs4 import BeautifulSoup"
   ]
  },
  {
   "cell_type": "markdown",
   "metadata": {},
   "source": [
    "## Get Smiles"
   ]
  },
  {
   "cell_type": "code",
   "execution_count": 2,
   "metadata": {},
   "outputs": [
    {
     "name": "stdout",
     "output_type": "stream",
     "text": [
      "Total data size 249455\n"
     ]
    }
   ],
   "source": [
    "data_url = 'https://github.com/aspuru-guzik-group/selfies/raw/16a489afa70882428bc194b2b24a2d33573f1651/examples/vae_example/datasets/dataJ_250k_rndm_zinc_drugs_clean.txt'\n",
    "\n",
    "pd_data = pd.read_csv(data_url)\n",
    "print('Total data size', len(pd_data))"
   ]
  },
  {
   "cell_type": "code",
   "execution_count": 3,
   "metadata": {},
   "outputs": [],
   "source": [
    "pd_data.head()\n",
    "all_smiles = pd_data.values[:,0]"
   ]
  },
  {
   "cell_type": "markdown",
   "metadata": {},
   "source": [
    "## Write function to make data\n"
   ]
  },
  {
   "cell_type": "code",
   "execution_count": 4,
   "metadata": {},
   "outputs": [],
   "source": [
    "def fetch_page():\n",
    "    \"\"\"\n",
    "    This fetches a random page from wikipedia and returns it as a string\n",
    "    \"\"\"\n",
    "    url = 'https://en.wikipedia.org/wiki/Special:Random'\n",
    "    response = requests.get(url)\n",
    "    soup = BeautifulSoup(response.text, 'html.parser')\n",
    "    text = soup.get_text()\n",
    "    return text\n",
    "\n",
    "def mix(a, b, p=0.5):\n",
    "    \"\"\"    \n",
    "    This function randomly replaces elements of list a with list b with probability p\n",
    "    It returns the new list and the index of where replacements were made\n",
    "    \"\"\"\n",
    "    new_a = a.copy()\n",
    "    idx = np.random.choice(len(a), int(p*len(a)), replace=False)\n",
    "    new_a[idx] = b[idx]\n",
    "    return new_a, idx\n",
    "\n",
    "def make_examples(p, minN=1000):\n",
    "    text = fetch_page().split()\n",
    "    while len(text) < 1000:\n",
    "        time.sleep(1)\n",
    "        text += fetch_page().split()\n",
    "    wiki_text = np.array(text)\n",
    "    x, idx = mix(wiki_text, all_smiles, p)\n",
    "    y = np.zeros(len(x))\n",
    "    y[idx] = 1\n",
    "    return x,y"
   ]
  },
  {
   "cell_type": "code",
   "execution_count": 5,
   "metadata": {},
   "outputs": [],
   "source": [
    "@dataclass\n",
    "class Config:\n",
    "    name: str\n",
    "    example_count: int\n",
    "    vocab_size: int\n",
    "    split: float\n",
    "    batch_size: int\n",
    "    buffer_size: int\n",
    "    embedding_dim: int\n",
    "    hidden_dim: int\n",
    "    rnn_units: int\n",
    "        \n",
    "big = Config(\n",
    "    name='big',\n",
    "    example_count=25000,\n",
    "    vocab_size=1024, \n",
    "    split=0.1,\n",
    "    batch_size=64,\n",
    "    buffer_size=10000, \n",
    "    embedding_dim=256, \n",
    "    hidden_dim=128,\n",
    "    rnn_units=128)\n",
    "tiny = Config(\n",
    "    name='tiny-v1',\n",
    "    example_count=25000,\n",
    "    vocab_size=32, \n",
    "    split=0.1,\n",
    "    batch_size=64,\n",
    "    buffer_size=10000, \n",
    "    embedding_dim=8, \n",
    "    hidden_dim=8,\n",
    "    rnn_units=16)\n",
    "config = tiny"
   ]
  },
  {
   "cell_type": "markdown",
   "metadata": {},
   "source": [
    "## Build data"
   ]
  },
  {
   "cell_type": "code",
   "execution_count": 6,
   "metadata": {},
   "outputs": [],
   "source": [
    "raw_data = make_examples(0.5, config.example_count)\n",
    "tokenizer = tf.keras.preprocessing.text.Tokenizer(config.vocab_size, filters='', char_level=True)\n",
    "tokenizer.fit_on_texts(raw_data[0])"
   ]
  },
  {
   "cell_type": "code",
   "execution_count": 7,
   "metadata": {},
   "outputs": [],
   "source": [
    "# now get padded sequences\n",
    "seqs = tokenizer.texts_to_sequences(raw_data[0])\n",
    "padded_seqs = tf.keras.preprocessing.sequence.pad_sequences(seqs, padding='post')\n",
    "\n",
    "# Now build dataset\n",
    "data = tf.data.Dataset.from_tensor_slices((padded_seqs, raw_data[1]))\n",
    "# now split into val, test, train and batch\n",
    "N = len(raw_data[0])\n",
    "split = int(config.split * N)\n",
    "test_data = data.take(split).batch(config.batch_size)\n",
    "nontest = data.skip(split)\n",
    "val_data, train_data = nontest.take(split).batch(config.batch_size), \\\n",
    "    nontest.skip(split).shuffle(config.buffer_size).batch(config.batch_size)"
   ]
  },
  {
   "cell_type": "markdown",
   "metadata": {},
   "source": [
    "## Build Model"
   ]
  },
  {
   "cell_type": "code",
   "execution_count": 8,
   "metadata": {},
   "outputs": [],
   "source": [
    "x = tf.keras.Input(shape=(None,))\n",
    "ex = tf.keras.layers.Embedding(input_dim=config.vocab_size, output_dim=config.embedding_dim, mask_zero=True)(x)\n",
    "# reset_after - TFJS requires this as false\n",
    "h = tf.keras.layers.GRU(config.rnn_units, reset_after=False)(ex)\n",
    "h = tf.keras.layers.Dense(config.hidden_dim, activation='relu')(h)\n",
    "yhat = tf.keras.layers.Dense(1)(h)\n",
    "model = tf.keras.Model(inputs=x, outputs=yhat)"
   ]
  },
  {
   "cell_type": "markdown",
   "metadata": {},
   "source": [
    "## Try Model"
   ]
  },
  {
   "cell_type": "code",
   "execution_count": 9,
   "metadata": {},
   "outputs": [
    {
     "data": {
      "text/plain": [
       "<tf.Tensor: shape=(1, 1), dtype=float32, numpy=array([[-0.00939825]], dtype=float32)>"
      ]
     },
     "execution_count": 9,
     "metadata": {},
     "output_type": "execute_result"
    }
   ],
   "source": [
    "yhat = model(padded_seqs[:1])\n",
    "yhat"
   ]
  },
  {
   "cell_type": "code",
   "execution_count": 10,
   "metadata": {},
   "outputs": [
    {
     "name": "stdout",
     "output_type": "stream",
     "text": [
      "Model: \"model\"\n",
      "_________________________________________________________________\n",
      "Layer (type)                 Output Shape              Param #   \n",
      "=================================================================\n",
      "input_1 (InputLayer)         [(None, None)]            0         \n",
      "_________________________________________________________________\n",
      "embedding (Embedding)        (None, None, 8)           256       \n",
      "_________________________________________________________________\n",
      "gru (GRU)                    (None, 16)                1200      \n",
      "_________________________________________________________________\n",
      "dense (Dense)                (None, 8)                 136       \n",
      "_________________________________________________________________\n",
      "dense_1 (Dense)              (None, 1)                 9         \n",
      "=================================================================\n",
      "Total params: 1,601\n",
      "Trainable params: 1,601\n",
      "Non-trainable params: 0\n",
      "_________________________________________________________________\n"
     ]
    }
   ],
   "source": [
    "model.summary()"
   ]
  },
  {
   "cell_type": "markdown",
   "metadata": {},
   "source": [
    "## Train"
   ]
  },
  {
   "cell_type": "code",
   "execution_count": 11,
   "metadata": {
    "scrolled": true
   },
   "outputs": [
    {
     "name": "stdout",
     "output_type": "stream",
     "text": [
      "Epoch 1/25\n",
      "16/16 [==============================] - 1s 24ms/step - loss: 0.5359\n",
      "Epoch 2/25\n",
      "16/16 [==============================] - 0s 22ms/step - loss: 0.0581\n",
      "Epoch 3/25\n",
      "16/16 [==============================] - 0s 22ms/step - loss: 0.0181\n",
      "Epoch 4/25\n",
      "16/16 [==============================] - 0s 22ms/step - loss: 0.0109\n",
      "Epoch 5/25\n",
      "16/16 [==============================] - 0s 22ms/step - loss: 0.0081\n",
      "Epoch 6/25\n",
      "16/16 [==============================] - 0s 22ms/step - loss: 0.0046\n",
      "Epoch 7/25\n",
      "16/16 [==============================] - 0s 22ms/step - loss: 0.0028\n",
      "Epoch 8/25\n",
      "16/16 [==============================] - 0s 22ms/step - loss: 0.0022\n",
      "Epoch 9/25\n",
      "16/16 [==============================] - 0s 24ms/step - loss: 0.0019\n",
      "Epoch 10/25\n",
      "16/16 [==============================] - 0s 23ms/step - loss: 0.0016\n",
      "Epoch 11/25\n",
      "16/16 [==============================] - 0s 22ms/step - loss: 0.0015\n",
      "Epoch 12/25\n",
      "16/16 [==============================] - 0s 21ms/step - loss: 0.0014\n",
      "Epoch 13/25\n",
      "16/16 [==============================] - 0s 22ms/step - loss: 0.0013\n",
      "Epoch 14/25\n",
      "16/16 [==============================] - 0s 22ms/step - loss: 0.0012\n",
      "Epoch 15/25\n",
      "16/16 [==============================] - 0s 22ms/step - loss: 0.0011\n",
      "Epoch 16/25\n",
      "16/16 [==============================] - 0s 22ms/step - loss: 0.0011\n",
      "Epoch 17/25\n",
      "16/16 [==============================] - 0s 23ms/step - loss: 9.8992e-04\n",
      "Epoch 18/25\n",
      "16/16 [==============================] - 0s 23ms/step - loss: 9.3758e-04\n",
      "Epoch 19/25\n",
      "16/16 [==============================] - 0s 22ms/step - loss: 8.7080e-04\n",
      "Epoch 20/25\n",
      "16/16 [==============================] - 0s 22ms/step - loss: 8.2499e-04\n",
      "Epoch 21/25\n",
      "16/16 [==============================] - 0s 22ms/step - loss: 7.7573e-04\n",
      "Epoch 22/25\n",
      "16/16 [==============================] - 0s 24ms/step - loss: 7.3451e-04\n",
      "Epoch 23/25\n",
      "16/16 [==============================] - 0s 22ms/step - loss: 6.9390e-04\n",
      "Epoch 24/25\n",
      "16/16 [==============================] - 0s 22ms/step - loss: 6.5665e-04\n",
      "Epoch 25/25\n",
      "16/16 [==============================] - 0s 22ms/step - loss: 6.3171e-04\n"
     ]
    }
   ],
   "source": [
    "loss = tf.losses.BinaryCrossentropy(from_logits=True)\n",
    "model.compile(tf.optimizers.Adam(1e-2), loss=loss)\n",
    "result = model.fit(train_data, epochs=25)"
   ]
  },
  {
   "cell_type": "code",
   "execution_count": 12,
   "metadata": {},
   "outputs": [
    {
     "data": {
      "image/png": "[encoded data removed]",
      "text/plain": [
       "<Figure size 432x288 with 1 Axes>"
      ]
     },
     "metadata": {
      "needs_background": "light"
     },
     "output_type": "display_data"
    }
   ],
   "source": [
    "plt.plot(result.history['loss'])\n",
    "plt.show()"
   ]
  },
  {
   "cell_type": "markdown",
   "metadata": {},
   "source": [
    "## Try Inference Model"
   ]
  },
  {
   "cell_type": "code",
   "execution_count": 13,
   "metadata": {},
   "outputs": [
    {
     "data": {
      "text/plain": [
       "array([[-15.3554945]], dtype=float32)"
      ]
     },
     "execution_count": 13,
     "metadata": {},
     "output_type": "execute_result"
    }
   ],
   "source": [
    "model.predict(tokenizer.texts_to_sequences(['Hello ']))"
   ]
  },
  {
   "cell_type": "code",
   "execution_count": 14,
   "metadata": {},
   "outputs": [
    {
     "data": {
      "text/plain": [
       "array([[-6.884694]], dtype=float32)"
      ]
     },
     "execution_count": 14,
     "metadata": {},
     "output_type": "execute_result"
    }
   ],
   "source": [
    "model.predict(tokenizer.texts_to_sequences(['C=NO ']))"
   ]
  },
  {
   "cell_type": "markdown",
   "metadata": {},
   "source": [
    "## Save Model"
   ]
  },
  {
   "cell_type": "code",
   "execution_count": 15,
   "metadata": {},
   "outputs": [],
   "source": [
    "import tensorflowjs as tfjs\n",
    "tfjs.converters.save_keras_model(model, f'../static/model-{config.name}')"
   ]
  },
  {
   "cell_type": "markdown",
   "metadata": {},
   "source": [
    "## Save Config"
   ]
  },
  {
   "cell_type": "code",
   "execution_count": 18,
   "metadata": {
    "scrolled": false
   },
   "outputs": [],
   "source": [
    "import json\n",
    "\n",
    "model_info = asdict(config)\n",
    "model_info['stoi'] = tokenizer.word_index\n",
    "model_info['vocab'] = list(tokenizer.word_counts.keys())\n",
    "model_info['url'] = f'https://raw.githubusercontent.com/whitead/chemhover/main/static/model-{config.name}/model.json'\n",
    "\n",
    "\n",
    "with open(f'../src/lib/{config.name}-info.js', 'w') as f:\n",
    "    f.write('export default config = ' + json.dumps(model_info))"
   ]
  },
  {
   "cell_type": "code",
   "execution_count": null,
   "metadata": {},
   "outputs": [],
   "source": []
  }
 ],
 "metadata": {
  "kernelspec": {
   "display_name": "Python 3",
   "language": "python",
   "name": "python3"
  },
  "language_info": {
   "codemirror_mode": {
    "name": "ipython",
    "version": 3
   },
   "file_extension": ".py",
   "mimetype": "text/x-python",
   "name": "python",
   "nbconvert_exporter": "python",
   "pygments_lexer": "ipython3",
   "version": "3.7.8"
  }
 },
 "nbformat": 4,
 "nbformat_minor": 4
}
